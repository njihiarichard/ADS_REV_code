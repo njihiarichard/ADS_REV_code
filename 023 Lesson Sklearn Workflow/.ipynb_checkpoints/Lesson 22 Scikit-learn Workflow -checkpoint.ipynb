{
 "cells": [
  {
   "cell_type": "markdown",
   "metadata": {},
   "source": [
    "* Simple and efficient tools for predictive data analysis\n",
    "* Accessible to everybody, and reusable in various contexts\n",
    "* Built on NumPy, SciPy, and matplotlib\n",
    "* Open source, commercially usable - BSD license"
   ]
  },
  {
   "cell_type": "markdown",
   "metadata": {},
   "source": [
    "Who uses Sklearn  ?\n",
    "\n",
    "J.P.Morgan\n",
    "Spotify\n",
    "Inria\n",
    "betaworks\n",
    "Hugging Face\n",
    "Evernote\n",
    "Télécom ParisTech\n",
    "Booking.com\n",
    "AWeber\n",
    "Yhat\n",
    "Rangespan\n",
    "Birchbox\n",
    "Bestofmedia Group"
   ]
  },
  {
   "cell_type": "code",
   "execution_count": null,
   "metadata": {},
   "outputs": [],
   "source": [
    "An end-to-end Scikit-Learn worfklow\n",
    "Getting the data ready\n",
    "Choosing the right maching learning estimator/aglorithm/model for your problem\n",
    "Fitting your chosen machine learning model to data and using it to make a prediction\n",
    "Evaluting a machine learning model\n",
    "Improving predictions through experimentation (hyperparameter tuning)\n",
    "Saving and loading a pretrained model\n",
    "Putting it all together in a pipeline"
   ]
  }
 ],
 "metadata": {
  "kernelspec": {
   "display_name": "Python 3",
   "language": "python",
   "name": "python3"
  },
  "language_info": {
   "codemirror_mode": {
    "name": "ipython",
    "version": 3
   },
   "file_extension": ".py",
   "mimetype": "text/x-python",
   "name": "python",
   "nbconvert_exporter": "python",
   "pygments_lexer": "ipython3",
   "version": "3.8.5"
  }
 },
 "nbformat": 4,
 "nbformat_minor": 4
}
